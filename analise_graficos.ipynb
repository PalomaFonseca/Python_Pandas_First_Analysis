{
  "nbformat": 4,
  "nbformat_minor": 0,
  "metadata": {
    "colab": {
      "provenance": [],
      "collapsed_sections": []
    },
    "kernelspec": {
      "name": "python3",
      "display_name": "Python 3"
    },
    "language_info": {
      "name": "python"
    }
  },
  "cells": [
    {
      "cell_type": "markdown",
      "source": [
        "## **TRABALHANDO COM PLANILHAS DO EXCEL, TRANSFORMANDO INFORMAÇÕES EM GRÁFICOS**"
      ],
      "metadata": {
        "id": "7G2WU5ES3yZm"
      }
    },
    {
      "cell_type": "code",
      "execution_count": null,
      "metadata": {
        "id": "QDiWJJQ9MOko"
      },
      "outputs": [],
      "source": [
        "#Immportando biblioteca pandas\n",
        "import pandas as pd"
      ]
    },
    {
      "cell_type": "code",
      "source": [
        "#Leitura dos arquivos via upload\n",
        "df1 = pd.read_excel(\"Aracaju.xlsx\")\n",
        "df2 = pd.read_excel(\"Fortaleza.xlsx\")\n",
        "df3 = pd.read_excel(\"Natal.xlsx\")\n",
        "df4 = pd.read_excel(\"Recife.xlsx\")\n",
        "df5 = pd.read_excel(\"Salvador.xlsx\")"
      ],
      "metadata": {
        "id": "Ae66g0czMfkj"
      },
      "execution_count": null,
      "outputs": []
    },
    {
      "cell_type": "code",
      "source": [
        "#Juntando arquivos em um só\n",
        "df = pd.concat([df1,df2,df3,df4,df5])"
      ],
      "metadata": {
        "id": "ISolEQdrREhy"
      },
      "execution_count": null,
      "outputs": []
    },
    {
      "cell_type": "code",
      "source": [
        "#Amostra do conjunto de dados\n",
        "df.sample(10)"
      ],
      "metadata": {
        "id": "a9M8Lr3kR9Uj"
      },
      "execution_count": null,
      "outputs": []
    },
    {
      "cell_type": "code",
      "source": [
        "#Tipo de dados de cada coluna\n",
        "df.dtypes"
      ],
      "metadata": {
        "id": "kN6JvkKCSKb0"
      },
      "execution_count": null,
      "outputs": []
    },
    {
      "cell_type": "code",
      "source": [
        "#Alterando tipo dado de uma coluna para outro\n",
        "df[\"LojaID\"] = df[\"LojaID\"].astype(\"object\")"
      ],
      "metadata": {
        "id": "hesvGOTZScVZ"
      },
      "execution_count": null,
      "outputs": []
    },
    {
      "cell_type": "markdown",
      "source": [
        "## **VALORES NULOS/FALTANTES**"
      ],
      "metadata": {
        "id": "iVc8-D7KTO7f"
      }
    },
    {
      "cell_type": "code",
      "source": [
        "#Consultando linhas com valores faltantes\n",
        "#Trazer soma dos valores nulos\n",
        "df.isnull().sum()"
      ],
      "metadata": {
        "id": "M5Fq9JflTbxI"
      },
      "execution_count": null,
      "outputs": []
    },
    {
      "cell_type": "code",
      "source": [
        "#Substituindo os valores nulos pela média\n",
        "#fillna preenche valores vazios com valor definido\n",
        "#implace é em memória\n",
        "df[\"Vendas\"].fillna(df[\"Vendas\"].mean(), inplace = True)"
      ],
      "metadata": {
        "id": "l_EBSxLeTrbP"
      },
      "execution_count": null,
      "outputs": []
    },
    {
      "cell_type": "code",
      "source": [
        "#Substituindo os valores nulos por 0\n",
        "df[\"Vendas\"].fillna(0, inplace = True)"
      ],
      "metadata": {
        "id": "ZgexmlFsUhls"
      },
      "execution_count": null,
      "outputs": []
    },
    {
      "cell_type": "code",
      "source": [
        "#Apagando linhas com valores nulos\n",
        "#dropna é valores nulos\n",
        "df.dropna(inplace = True)"
      ],
      "metadata": {
        "id": "EAJOg27bVe3G"
      },
      "execution_count": null,
      "outputs": []
    },
    {
      "cell_type": "code",
      "source": [
        "#Apagando linhas com valores nulos de uma unica coluna\n",
        "df.dropna(subset=[\"Vendas\"], inplace = True)"
      ],
      "metadata": {
        "id": "KeF5MWvLxadK"
      },
      "execution_count": null,
      "outputs": []
    },
    {
      "cell_type": "code",
      "source": [
        "#Apagando linhas com valores nulos de todas as colunas\n",
        "df.dropna(how = \"all\", inplace = True)"
      ],
      "metadata": {
        "id": "fR-IZBfaxpda"
      },
      "execution_count": null,
      "outputs": []
    },
    {
      "cell_type": "markdown",
      "source": [
        "# **CRIANDO NOVAS COLUNAS NO CONJUNTO DE DADOS**"
      ],
      "metadata": {
        "id": "gPM_e6AKyN8k"
      }
    },
    {
      "cell_type": "code",
      "source": [
        "#Criando a coluna de receita\n",
        "#receita é vendas * quantidade\n",
        "df[\"Receita\"] = df[\"Vendas\"].mul(df[\"Qtde\"])"
      ],
      "metadata": {
        "id": "ykYs4cV-yyYg"
      },
      "execution_count": null,
      "outputs": []
    },
    {
      "cell_type": "code",
      "source": [
        "#Retornando a maior receita\n",
        "df[\"Receita\"].max()"
      ],
      "metadata": {
        "id": "ERfOiOOQzMgF"
      },
      "execution_count": null,
      "outputs": []
    },
    {
      "cell_type": "code",
      "source": [
        "#Retornando a menor receita\n",
        "df[\"Receita\"].min()"
      ],
      "metadata": {
        "id": "G72aKpKv0KUS"
      },
      "execution_count": null,
      "outputs": []
    },
    {
      "cell_type": "code",
      "source": [
        "#Retornar os mais altos top x com base na coluna y\n",
        "#nlargest\n",
        "df.nlargest(3, \"Receita\")"
      ],
      "metadata": {
        "id": "RAbJ6BoU0P9M"
      },
      "execution_count": null,
      "outputs": []
    },
    {
      "cell_type": "code",
      "source": [
        "#Retornar os mais baixos top x com base na coluna y\n",
        "#nsmallest\n",
        "df.nsmallest(3, \"Receita\")\n"
      ],
      "metadata": {
        "id": "_5FRKMke0q6H"
      },
      "execution_count": null,
      "outputs": []
    },
    {
      "cell_type": "code",
      "source": [
        "#Agrupamento cidade\n",
        "df.groupby(\"Cidade\")[\"Receita\"].sum()"
      ],
      "metadata": {
        "id": "GBr5hOK_086t"
      },
      "execution_count": null,
      "outputs": []
    },
    {
      "cell_type": "code",
      "source": [
        "#Ordenando conjunto de dados\n",
        "df.sort_values(\"Receita\", ascending = False).head(5)"
      ],
      "metadata": {
        "id": "XbIdU97c1UYk"
      },
      "execution_count": null,
      "outputs": []
    },
    {
      "cell_type": "markdown",
      "source": [
        "### **TRABALHANDO COM DATAS**"
      ],
      "metadata": {
        "id": "9_bFJ9Yz2qrE"
      }
    },
    {
      "cell_type": "code",
      "source": [
        "#Transformando coluna de data em tipo inteiro\n",
        "df[\"Data\"] = df[\"Data\"].astype(\"int64\")"
      ],
      "metadata": {
        "id": "r4S3DKCu2xkr"
      },
      "execution_count": null,
      "outputs": []
    },
    {
      "cell_type": "code",
      "source": [
        "#Transformando coluna de data em data\n",
        "df[\"Data\"] = pd.to_datetime(df[\"Data\"])"
      ],
      "metadata": {
        "id": "4q5W_C7R3GQc"
      },
      "execution_count": null,
      "outputs": []
    },
    {
      "cell_type": "code",
      "source": [
        "#Agrupamento por ano\n",
        "df.groupby(df[\"Data\"].dt.year)[\"Receita\"].sum()"
      ],
      "metadata": {
        "id": "13Sg7zGy3pwg"
      },
      "execution_count": null,
      "outputs": []
    },
    {
      "cell_type": "code",
      "source": [
        "#Criando nova coluna com ano\n",
        "df[\"Ano_Venda\"] = df[\"Data\"].dt.year"
      ],
      "metadata": {
        "id": "xR96o4wR4TCo"
      },
      "execution_count": null,
      "outputs": []
    },
    {
      "cell_type": "code",
      "source": [
        "#Extraindo mês e dia da venda\n",
        "df[\"Mes_Venda\"], df[\"Dia_Venda\"] = (df[\"Data\"].dt.month, df[\"Data\"].dt.day)"
      ],
      "metadata": {
        "id": "RBIlgRq-4uYZ"
      },
      "execution_count": null,
      "outputs": []
    },
    {
      "cell_type": "code",
      "source": [
        "#Retornando a data mais antiga\n",
        "df[\"Data\"].min()"
      ],
      "metadata": {
        "id": "MfwU0MhK5SI_"
      },
      "execution_count": null,
      "outputs": []
    },
    {
      "cell_type": "code",
      "source": [
        "#Calculando diferença de dias\n",
        "df[\"Diferenca_Dias\"] = df[\"Data\"] - df[\"Data\"].min()"
      ],
      "metadata": {
        "id": "GqATOJ425kZX"
      },
      "execution_count": null,
      "outputs": []
    },
    {
      "cell_type": "code",
      "source": [
        "#Criando coluna de trimestre\n",
        "df[\"Trimestre_Venda\"] = df[\"Data\"].dt.quarter"
      ],
      "metadata": {
        "id": "AnxyJ5Ha6UXI"
      },
      "execution_count": null,
      "outputs": []
    },
    {
      "cell_type": "code",
      "source": [
        "#Filtrando vendas de 2019 do mês de março\n",
        "vendas_marco_19 = df.loc[(df[\"Data\"].dt.year == 2019) & (df[\"Data\"].dt.month == 3 )]"
      ],
      "metadata": {
        "id": "6K7QbbG762NP"
      },
      "execution_count": null,
      "outputs": []
    },
    {
      "cell_type": "code",
      "source": [
        "vendas_marco_19"
      ],
      "metadata": {
        "id": "P6N_9tFc7phn"
      },
      "execution_count": null,
      "outputs": []
    },
    {
      "cell_type": "markdown",
      "source": [
        "# **VIZUALIZAÇÃO DE DADOS**"
      ],
      "metadata": {
        "id": "kj0qr-33kYrJ"
      }
    },
    {
      "cell_type": "code",
      "source": [
        "#Linhas para cada LojaID\n",
        "df[\"LojaID\"].value_counts(ascending=False)"
      ],
      "metadata": {
        "id": "hGxX-AJ-kerL"
      },
      "execution_count": null,
      "outputs": []
    },
    {
      "cell_type": "code",
      "source": [
        "#Matplotlib\n",
        "#Gráfico de barras de linhas contidas para cada LojaID(verticalmente)\n",
        "df[\"LojaID\"].value_counts(ascending=False).plot.bar()"
      ],
      "metadata": {
        "id": "sDM7LnDllPLd"
      },
      "execution_count": null,
      "outputs": []
    },
    {
      "cell_type": "code",
      "source": [
        "#Linhas horizontais\n",
        "df[\"LojaID\"].value_counts(ascending=True).plot.barh()"
      ],
      "metadata": {
        "id": "Hi8mVs_BleDT"
      },
      "execution_count": null,
      "outputs": []
    },
    {
      "cell_type": "code",
      "source": [
        "#Para não aparecer <matplotlib.axes._subplots.AxesSubplot at 0x7fec62e39850> necessário por \";\"\n",
        "df[\"LojaID\"].value_counts(ascending=True).plot.barh();"
      ],
      "metadata": {
        "id": "0SbedtNflrC2"
      },
      "execution_count": null,
      "outputs": []
    },
    {
      "cell_type": "code",
      "source": [
        "#Grafico de pizza\n",
        "df.groupby(df[\"Data\"].dt.year)[\"Receita\"].sum().plot.pie()"
      ],
      "metadata": {
        "id": "9Wn79DqkmEKM"
      },
      "execution_count": null,
      "outputs": []
    },
    {
      "cell_type": "code",
      "source": [
        "#Total de vendas por cidade\n",
        "df[\"Cidade\"].value_counts()"
      ],
      "metadata": {
        "id": "ZEKx-7tNmhwr"
      },
      "execution_count": null,
      "outputs": []
    },
    {
      "cell_type": "code",
      "source": [
        "#Adicionar titulo e alterar nome dos eixos\n",
        "#Importando biblioteca matplotlib\n",
        "import matplotlib.pyplot as plt\n",
        "df[\"Cidade\"].value_counts().plot.bar(title=\"Total de vendas por cidade\")\n",
        "plt.xlabel(\"Cidade\")\n",
        "plt.ylabel(\"Total vendas\");"
      ],
      "metadata": {
        "id": "wc07cCLmnJf-"
      },
      "execution_count": null,
      "outputs": []
    },
    {
      "cell_type": "code",
      "source": [
        "#Alterando a cor\n",
        "df[\"Cidade\"].value_counts().plot.bar(title=\"Total de vendas por cidade\", color=\"pink\")\n",
        "plt.xlabel(\"Cidade\")\n",
        "plt.ylabel(\"Total vendas\");"
      ],
      "metadata": {
        "id": "cdjAccC6nYkD"
      },
      "execution_count": null,
      "outputs": []
    },
    {
      "cell_type": "code",
      "source": [
        "#Alterando estilo\n",
        "plt.style.use(\"ggplot\")\n",
        "df.groupby(df[\"Mes_Venda\"])[\"Qtde\"].sum().plot(title=\"Total de produtos vendidos por mês\")\n",
        "plt.xlabel(\"Mês\")\n",
        "plt.ylabel(\"Total de produtos vendidos\")\n",
        "plt.legend(); "
      ],
      "metadata": {
        "id": "zwxx7cBuohso"
      },
      "execution_count": null,
      "outputs": []
    },
    {
      "cell_type": "code",
      "source": [
        "#Quantidade de vendas por mês\n",
        "df.groupby(df[\"Mes_Venda\"])[\"Qtde\"].sum()"
      ],
      "metadata": {
        "id": "vwfEiAaBpvPO"
      },
      "execution_count": null,
      "outputs": []
    },
    {
      "cell_type": "code",
      "source": [
        "#Selecionando apenas o ano de 2019\n",
        "df_2019 = df[df[\"Ano_Venda\"] == 2019]"
      ],
      "metadata": {
        "id": "FbIFGKOQqt_T"
      },
      "execution_count": null,
      "outputs": []
    },
    {
      "cell_type": "code",
      "source": [
        "#Gráfico de linhas do total produtos vendidos por mês\n",
        "df_2019.groupby(df_2019[\"Mes_Venda\"])[\"Qtde\"].sum().plot(marker = \"v\")\n",
        "plt.xlabel(\"Mês\")\n",
        "plt.ylabel(\"Total de produtos vendidos\")\n",
        "plt.legend();#Incluindo legenda\n",
        "#Existem varios marcadores  "
      ],
      "metadata": {
        "id": "4hxE90sVrKIK"
      },
      "execution_count": null,
      "outputs": []
    },
    {
      "cell_type": "code",
      "source": [
        "#Histograma\n",
        "plt.hist(df[\"Qtde\"], color =  \"cyan\");"
      ],
      "metadata": {
        "id": "XtOHoEHPsFFV"
      },
      "execution_count": null,
      "outputs": []
    },
    {
      "cell_type": "code",
      "source": [
        "#Gráfico de dispersão\n",
        "plt.scatter(x=df_2019[\"Dia_Venda\"], y=df_2019[\"Receita\"], color =\"Pink\");"
      ],
      "metadata": {
        "id": "p1meIlb6tCzP"
      },
      "execution_count": null,
      "outputs": []
    },
    {
      "cell_type": "code",
      "source": [
        "#Gráfico de linha\n",
        "df_2019.groupby(df_2019[\"Mes_Venda\"])[\"Qtde\"].sum().plot(marker = \"v\")\n",
        "plt.xlabel(\"Mês\")\n",
        "plt.ylabel(\"Total de produtos vendidos\")\n",
        "plt.legend()\n",
        "plt.savefig(\"Grafico_qtd_mes.png\");"
      ],
      "metadata": {
        "id": "cBT4skzbt-1E"
      },
      "execution_count": null,
      "outputs": []
    }
  ]
}